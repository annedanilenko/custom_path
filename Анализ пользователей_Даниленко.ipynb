{
 "cells": [
  {
   "cell_type": "markdown",
   "metadata": {},
   "source": [
    "#### Необходимо проверить два предположения:\n",
    "\n",
    "- Зависит ли вероятность оплаты от выбранного пользователем уровня сложности?\n",
    "- Существует ли разница во времени между событиями регистрации и оплаты для разных групп пользователей с разным уровнем сложности?\n",
    "\n",
    "Проверку производите на основе данных пользователей, которые зарегистрировались в 2018 году (с 1 января по 31 декабря 2018 года включительно)."
   ]
  },
  {
   "cell_type": "markdown",
   "metadata": {},
   "source": [
    "#### План действий:\n",
    "\n",
    "1. Получите данные из файла.\n",
    "2. Произведите обзор данных и преобразование данных, если оно необходимо.\n",
    "3. Выделите группы пользователей по уровню сложности.\n",
    "4. Рассчитайте для каждой группы процент оплат.\n",
    "5. Для каждой группы сделайте по два датафрейма: один — с событиями выбора уровня сложности, другой — с событиями оплаты.\n",
    "6. Объедините датафреймы в рамках одной группы и найдите разницу во времени между событиями регистрации и оплаты.\n",
    "7. Рассчитайте среднее время между событиями."
   ]
  },
  {
   "cell_type": "code",
   "execution_count": 1,
   "metadata": {},
   "outputs": [],
   "source": [
    "import pandas as pd"
   ]
  },
  {
   "cell_type": "code",
   "execution_count": 2,
   "metadata": {},
   "outputs": [],
   "source": [
    "from datetime import datetime, timedelta"
   ]
  },
  {
   "cell_type": "markdown",
   "metadata": {},
   "source": [
    "#### 1. Получаем данные"
   ]
  },
  {
   "cell_type": "code",
   "execution_count": 3,
   "metadata": {},
   "outputs": [],
   "source": [
    "events = pd.read_csv('events.csv')\n",
    "purchases = pd.read_csv('purchase.xls')"
   ]
  },
  {
   "cell_type": "markdown",
   "metadata": {},
   "source": [
    "#### 2. Обзор данных"
   ]
  },
  {
   "cell_type": "code",
   "execution_count": 4,
   "metadata": {
    "scrolled": true
   },
   "outputs": [
    {
     "data": {
      "text/html": [
       "<div>\n",
       "<style scoped>\n",
       "    .dataframe tbody tr th:only-of-type {\n",
       "        vertical-align: middle;\n",
       "    }\n",
       "\n",
       "    .dataframe tbody tr th {\n",
       "        vertical-align: top;\n",
       "    }\n",
       "\n",
       "    .dataframe thead th {\n",
       "        text-align: right;\n",
       "    }\n",
       "</style>\n",
       "<table border=\"1\" class=\"dataframe\">\n",
       "  <thead>\n",
       "    <tr style=\"text-align: right;\">\n",
       "      <th></th>\n",
       "      <th>id</th>\n",
       "      <th>event_type</th>\n",
       "      <th>selected_level</th>\n",
       "      <th>start_time</th>\n",
       "      <th>tutorial_id</th>\n",
       "      <th>user_id</th>\n",
       "    </tr>\n",
       "  </thead>\n",
       "  <tbody>\n",
       "    <tr>\n",
       "      <th>0</th>\n",
       "      <td>28903</td>\n",
       "      <td>registration</td>\n",
       "      <td>NaN</td>\n",
       "      <td>2016-05-11T23:40:55</td>\n",
       "      <td>NaN</td>\n",
       "      <td>12583</td>\n",
       "    </tr>\n",
       "    <tr>\n",
       "      <th>1</th>\n",
       "      <td>28904</td>\n",
       "      <td>registration</td>\n",
       "      <td>NaN</td>\n",
       "      <td>2016-05-11T23:49:58</td>\n",
       "      <td>NaN</td>\n",
       "      <td>12584</td>\n",
       "    </tr>\n",
       "    <tr>\n",
       "      <th>2</th>\n",
       "      <td>28905</td>\n",
       "      <td>registration</td>\n",
       "      <td>NaN</td>\n",
       "      <td>2016-05-12T00:53:07</td>\n",
       "      <td>NaN</td>\n",
       "      <td>12585</td>\n",
       "    </tr>\n",
       "    <tr>\n",
       "      <th>3</th>\n",
       "      <td>28906</td>\n",
       "      <td>tutorial_start</td>\n",
       "      <td>NaN</td>\n",
       "      <td>2016-05-12T01:32:20</td>\n",
       "      <td>17562.0</td>\n",
       "      <td>12585</td>\n",
       "    </tr>\n",
       "    <tr>\n",
       "      <th>4</th>\n",
       "      <td>28907</td>\n",
       "      <td>tutorial_finish</td>\n",
       "      <td>NaN</td>\n",
       "      <td>2016-05-12T01:34:53</td>\n",
       "      <td>17562.0</td>\n",
       "      <td>12585</td>\n",
       "    </tr>\n",
       "    <tr>\n",
       "      <th>...</th>\n",
       "      <td>...</td>\n",
       "      <td>...</td>\n",
       "      <td>...</td>\n",
       "      <td>...</td>\n",
       "      <td>...</td>\n",
       "      <td>...</td>\n",
       "    </tr>\n",
       "    <tr>\n",
       "      <th>252329</th>\n",
       "      <td>281232</td>\n",
       "      <td>level_choice</td>\n",
       "      <td>hard</td>\n",
       "      <td>2020-07-02T10:02:15</td>\n",
       "      <td>NaN</td>\n",
       "      <td>87439</td>\n",
       "    </tr>\n",
       "    <tr>\n",
       "      <th>252330</th>\n",
       "      <td>281233</td>\n",
       "      <td>level_choice</td>\n",
       "      <td>medium</td>\n",
       "      <td>2020-07-02T11:38:52</td>\n",
       "      <td>NaN</td>\n",
       "      <td>87488</td>\n",
       "    </tr>\n",
       "    <tr>\n",
       "      <th>252331</th>\n",
       "      <td>281234</td>\n",
       "      <td>pack_choice</td>\n",
       "      <td>NaN</td>\n",
       "      <td>2020-07-02T11:42:14</td>\n",
       "      <td>NaN</td>\n",
       "      <td>87488</td>\n",
       "    </tr>\n",
       "    <tr>\n",
       "      <th>252332</th>\n",
       "      <td>281235</td>\n",
       "      <td>tutorial_start</td>\n",
       "      <td>NaN</td>\n",
       "      <td>2020-07-02T13:32:58</td>\n",
       "      <td>86127.0</td>\n",
       "      <td>87464</td>\n",
       "    </tr>\n",
       "    <tr>\n",
       "      <th>252333</th>\n",
       "      <td>281236</td>\n",
       "      <td>tutorial_finish</td>\n",
       "      <td>NaN</td>\n",
       "      <td>2020-07-02T13:36:36</td>\n",
       "      <td>86127.0</td>\n",
       "      <td>87464</td>\n",
       "    </tr>\n",
       "  </tbody>\n",
       "</table>\n",
       "<p>252334 rows × 6 columns</p>\n",
       "</div>"
      ],
      "text/plain": [
       "            id       event_type selected_level           start_time  \\\n",
       "0        28903     registration            NaN  2016-05-11T23:40:55   \n",
       "1        28904     registration            NaN  2016-05-11T23:49:58   \n",
       "2        28905     registration            NaN  2016-05-12T00:53:07   \n",
       "3        28906   tutorial_start            NaN  2016-05-12T01:32:20   \n",
       "4        28907  tutorial_finish            NaN  2016-05-12T01:34:53   \n",
       "...        ...              ...            ...                  ...   \n",
       "252329  281232     level_choice           hard  2020-07-02T10:02:15   \n",
       "252330  281233     level_choice         medium  2020-07-02T11:38:52   \n",
       "252331  281234      pack_choice            NaN  2020-07-02T11:42:14   \n",
       "252332  281235   tutorial_start            NaN  2020-07-02T13:32:58   \n",
       "252333  281236  tutorial_finish            NaN  2020-07-02T13:36:36   \n",
       "\n",
       "        tutorial_id  user_id  \n",
       "0               NaN    12583  \n",
       "1               NaN    12584  \n",
       "2               NaN    12585  \n",
       "3           17562.0    12585  \n",
       "4           17562.0    12585  \n",
       "...             ...      ...  \n",
       "252329          NaN    87439  \n",
       "252330          NaN    87488  \n",
       "252331          NaN    87488  \n",
       "252332      86127.0    87464  \n",
       "252333      86127.0    87464  \n",
       "\n",
       "[252334 rows x 6 columns]"
      ]
     },
     "metadata": {},
     "output_type": "display_data"
    }
   ],
   "source": [
    "display(events)"
   ]
  },
  {
   "cell_type": "code",
   "execution_count": 5,
   "metadata": {},
   "outputs": [
    {
     "data": {
      "text/html": [
       "<div>\n",
       "<style scoped>\n",
       "    .dataframe tbody tr th:only-of-type {\n",
       "        vertical-align: middle;\n",
       "    }\n",
       "\n",
       "    .dataframe tbody tr th {\n",
       "        vertical-align: top;\n",
       "    }\n",
       "\n",
       "    .dataframe thead th {\n",
       "        text-align: right;\n",
       "    }\n",
       "</style>\n",
       "<table border=\"1\" class=\"dataframe\">\n",
       "  <thead>\n",
       "    <tr style=\"text-align: right;\">\n",
       "      <th></th>\n",
       "      <th>id</th>\n",
       "      <th>user_id</th>\n",
       "      <th>event_datetime</th>\n",
       "      <th>amount</th>\n",
       "    </tr>\n",
       "  </thead>\n",
       "  <tbody>\n",
       "    <tr>\n",
       "      <th>0</th>\n",
       "      <td>15674</td>\n",
       "      <td>12584</td>\n",
       "      <td>2016-05-12T10:34:16</td>\n",
       "      <td>100</td>\n",
       "    </tr>\n",
       "    <tr>\n",
       "      <th>1</th>\n",
       "      <td>15675</td>\n",
       "      <td>12985</td>\n",
       "      <td>2016-05-13T08:25:56</td>\n",
       "      <td>50</td>\n",
       "    </tr>\n",
       "    <tr>\n",
       "      <th>2</th>\n",
       "      <td>15676</td>\n",
       "      <td>12828</td>\n",
       "      <td>2016-05-13T16:33:46</td>\n",
       "      <td>50</td>\n",
       "    </tr>\n",
       "    <tr>\n",
       "      <th>3</th>\n",
       "      <td>15677</td>\n",
       "      <td>12598</td>\n",
       "      <td>2016-05-14T01:09:37</td>\n",
       "      <td>150</td>\n",
       "    </tr>\n",
       "    <tr>\n",
       "      <th>4</th>\n",
       "      <td>15678</td>\n",
       "      <td>13037</td>\n",
       "      <td>2016-05-14T01:24:46</td>\n",
       "      <td>100</td>\n",
       "    </tr>\n",
       "    <tr>\n",
       "      <th>...</th>\n",
       "      <td>...</td>\n",
       "      <td>...</td>\n",
       "      <td>...</td>\n",
       "      <td>...</td>\n",
       "    </tr>\n",
       "    <tr>\n",
       "      <th>5951</th>\n",
       "      <td>21625</td>\n",
       "      <td>87331</td>\n",
       "      <td>2020-07-06T09:02:07</td>\n",
       "      <td>50</td>\n",
       "    </tr>\n",
       "    <tr>\n",
       "      <th>5952</th>\n",
       "      <td>21626</td>\n",
       "      <td>87418</td>\n",
       "      <td>2020-07-06T14:16:37</td>\n",
       "      <td>100</td>\n",
       "    </tr>\n",
       "    <tr>\n",
       "      <th>5953</th>\n",
       "      <td>21627</td>\n",
       "      <td>87431</td>\n",
       "      <td>2020-07-06T22:48:59</td>\n",
       "      <td>50</td>\n",
       "    </tr>\n",
       "    <tr>\n",
       "      <th>5954</th>\n",
       "      <td>21628</td>\n",
       "      <td>87363</td>\n",
       "      <td>2020-07-07T05:38:56</td>\n",
       "      <td>100</td>\n",
       "    </tr>\n",
       "    <tr>\n",
       "      <th>5955</th>\n",
       "      <td>21629</td>\n",
       "      <td>87466</td>\n",
       "      <td>2020-07-08T01:59:21</td>\n",
       "      <td>50</td>\n",
       "    </tr>\n",
       "  </tbody>\n",
       "</table>\n",
       "<p>5956 rows × 4 columns</p>\n",
       "</div>"
      ],
      "text/plain": [
       "         id  user_id       event_datetime  amount\n",
       "0     15674    12584  2016-05-12T10:34:16     100\n",
       "1     15675    12985  2016-05-13T08:25:56      50\n",
       "2     15676    12828  2016-05-13T16:33:46      50\n",
       "3     15677    12598  2016-05-14T01:09:37     150\n",
       "4     15678    13037  2016-05-14T01:24:46     100\n",
       "...     ...      ...                  ...     ...\n",
       "5951  21625    87331  2020-07-06T09:02:07      50\n",
       "5952  21626    87418  2020-07-06T14:16:37     100\n",
       "5953  21627    87431  2020-07-06T22:48:59      50\n",
       "5954  21628    87363  2020-07-07T05:38:56     100\n",
       "5955  21629    87466  2020-07-08T01:59:21      50\n",
       "\n",
       "[5956 rows x 4 columns]"
      ]
     },
     "metadata": {},
     "output_type": "display_data"
    }
   ],
   "source": [
    "display(purchases)"
   ]
  },
  {
   "cell_type": "markdown",
   "metadata": {},
   "source": [
    "Пользователи, зарегистрировавшиеся в 2018 году, в датафрейме events."
   ]
  },
  {
   "cell_type": "code",
   "execution_count": 6,
   "metadata": {},
   "outputs": [
    {
     "data": {
      "text/html": [
       "<div>\n",
       "<style scoped>\n",
       "    .dataframe tbody tr th:only-of-type {\n",
       "        vertical-align: middle;\n",
       "    }\n",
       "\n",
       "    .dataframe tbody tr th {\n",
       "        vertical-align: top;\n",
       "    }\n",
       "\n",
       "    .dataframe thead th {\n",
       "        text-align: right;\n",
       "    }\n",
       "</style>\n",
       "<table border=\"1\" class=\"dataframe\">\n",
       "  <thead>\n",
       "    <tr style=\"text-align: right;\">\n",
       "      <th></th>\n",
       "      <th>id</th>\n",
       "      <th>event_type</th>\n",
       "      <th>selected_level</th>\n",
       "      <th>start_time</th>\n",
       "      <th>tutorial_id</th>\n",
       "      <th>user_id</th>\n",
       "    </tr>\n",
       "  </thead>\n",
       "  <tbody>\n",
       "    <tr>\n",
       "      <th>51405</th>\n",
       "      <td>80308</td>\n",
       "      <td>registration</td>\n",
       "      <td>NaN</td>\n",
       "      <td>2018-01-01T03:48:40</td>\n",
       "      <td>NaN</td>\n",
       "      <td>27832</td>\n",
       "    </tr>\n",
       "    <tr>\n",
       "      <th>51406</th>\n",
       "      <td>80309</td>\n",
       "      <td>registration</td>\n",
       "      <td>NaN</td>\n",
       "      <td>2018-01-01T04:07:25</td>\n",
       "      <td>NaN</td>\n",
       "      <td>27833</td>\n",
       "    </tr>\n",
       "    <tr>\n",
       "      <th>51407</th>\n",
       "      <td>80310</td>\n",
       "      <td>registration</td>\n",
       "      <td>NaN</td>\n",
       "      <td>2018-01-01T08:35:10</td>\n",
       "      <td>NaN</td>\n",
       "      <td>27834</td>\n",
       "    </tr>\n",
       "    <tr>\n",
       "      <th>51408</th>\n",
       "      <td>80311</td>\n",
       "      <td>registration</td>\n",
       "      <td>NaN</td>\n",
       "      <td>2018-01-01T11:54:47</td>\n",
       "      <td>NaN</td>\n",
       "      <td>27835</td>\n",
       "    </tr>\n",
       "    <tr>\n",
       "      <th>51409</th>\n",
       "      <td>80312</td>\n",
       "      <td>registration</td>\n",
       "      <td>NaN</td>\n",
       "      <td>2018-01-01T13:28:07</td>\n",
       "      <td>NaN</td>\n",
       "      <td>27836</td>\n",
       "    </tr>\n",
       "    <tr>\n",
       "      <th>...</th>\n",
       "      <td>...</td>\n",
       "      <td>...</td>\n",
       "      <td>...</td>\n",
       "      <td>...</td>\n",
       "      <td>...</td>\n",
       "      <td>...</td>\n",
       "    </tr>\n",
       "    <tr>\n",
       "      <th>118359</th>\n",
       "      <td>147262</td>\n",
       "      <td>tutorial_start</td>\n",
       "      <td>NaN</td>\n",
       "      <td>2019-01-01T03:26:18</td>\n",
       "      <td>49554.0</td>\n",
       "      <td>47756</td>\n",
       "    </tr>\n",
       "    <tr>\n",
       "      <th>118360</th>\n",
       "      <td>147263</td>\n",
       "      <td>tutorial_finish</td>\n",
       "      <td>NaN</td>\n",
       "      <td>2019-01-01T03:29:25</td>\n",
       "      <td>49554.0</td>\n",
       "      <td>47756</td>\n",
       "    </tr>\n",
       "    <tr>\n",
       "      <th>118362</th>\n",
       "      <td>147265</td>\n",
       "      <td>level_choice</td>\n",
       "      <td>easy</td>\n",
       "      <td>2019-01-01T05:04:52</td>\n",
       "      <td>NaN</td>\n",
       "      <td>47755</td>\n",
       "    </tr>\n",
       "    <tr>\n",
       "      <th>118363</th>\n",
       "      <td>147266</td>\n",
       "      <td>level_choice</td>\n",
       "      <td>medium</td>\n",
       "      <td>2019-01-01T05:42:11</td>\n",
       "      <td>NaN</td>\n",
       "      <td>47756</td>\n",
       "    </tr>\n",
       "    <tr>\n",
       "      <th>118364</th>\n",
       "      <td>147267</td>\n",
       "      <td>pack_choice</td>\n",
       "      <td>NaN</td>\n",
       "      <td>2019-01-01T05:50:36</td>\n",
       "      <td>NaN</td>\n",
       "      <td>47756</td>\n",
       "    </tr>\n",
       "  </tbody>\n",
       "</table>\n",
       "<p>66959 rows × 6 columns</p>\n",
       "</div>"
      ],
      "text/plain": [
       "            id       event_type selected_level           start_time  \\\n",
       "51405    80308     registration            NaN  2018-01-01T03:48:40   \n",
       "51406    80309     registration            NaN  2018-01-01T04:07:25   \n",
       "51407    80310     registration            NaN  2018-01-01T08:35:10   \n",
       "51408    80311     registration            NaN  2018-01-01T11:54:47   \n",
       "51409    80312     registration            NaN  2018-01-01T13:28:07   \n",
       "...        ...              ...            ...                  ...   \n",
       "118359  147262   tutorial_start            NaN  2019-01-01T03:26:18   \n",
       "118360  147263  tutorial_finish            NaN  2019-01-01T03:29:25   \n",
       "118362  147265     level_choice           easy  2019-01-01T05:04:52   \n",
       "118363  147266     level_choice         medium  2019-01-01T05:42:11   \n",
       "118364  147267      pack_choice            NaN  2019-01-01T05:50:36   \n",
       "\n",
       "        tutorial_id  user_id  \n",
       "51405           NaN    27832  \n",
       "51406           NaN    27833  \n",
       "51407           NaN    27834  \n",
       "51408           NaN    27835  \n",
       "51409           NaN    27836  \n",
       "...             ...      ...  \n",
       "118359      49554.0    47756  \n",
       "118360      49554.0    47756  \n",
       "118362          NaN    47755  \n",
       "118363          NaN    47756  \n",
       "118364          NaN    47756  \n",
       "\n",
       "[66959 rows x 6 columns]"
      ]
     },
     "metadata": {},
     "output_type": "display_data"
    }
   ],
   "source": [
    "condition1 = (events.start_time>='2018-01-01') & (events.start_time<'2019-01-01') & (events.event_type=='registration')\n",
    "registered = events[condition1].user_id.to_list() # список пользователей, зарег. в 2018\n",
    "events18 = events[events.user_id.isin(registered)]\n",
    "display(events18)"
   ]
  },
  {
   "cell_type": "code",
   "execution_count": 7,
   "metadata": {},
   "outputs": [
    {
     "name": "stdout",
     "output_type": "stream",
     "text": [
      "<class 'pandas.core.frame.DataFrame'>\n",
      "Int64Index: 66959 entries, 51405 to 118364\n",
      "Data columns (total 6 columns):\n",
      " #   Column          Non-Null Count  Dtype  \n",
      "---  ------          --------------  -----  \n",
      " 0   id              66959 non-null  int64  \n",
      " 1   event_type      66959 non-null  object \n",
      " 2   selected_level  8342 non-null   object \n",
      " 3   start_time      66959 non-null  object \n",
      " 4   tutorial_id     32954 non-null  float64\n",
      " 5   user_id         66959 non-null  int64  \n",
      "dtypes: float64(1), int64(2), object(3)\n",
      "memory usage: 3.6+ MB\n"
     ]
    }
   ],
   "source": [
    "events18.info()"
   ]
  },
  {
   "cell_type": "markdown",
   "metadata": {},
   "source": [
    "Покупки, совершенные пользователями в 2018 году, из датафрейма purchases."
   ]
  },
  {
   "cell_type": "code",
   "execution_count": 8,
   "metadata": {},
   "outputs": [
    {
     "name": "stdout",
     "output_type": "stream",
     "text": [
      "<class 'pandas.core.frame.DataFrame'>\n",
      "Int64Index: 1600 entries, 1171 to 2778\n",
      "Data columns (total 4 columns):\n",
      " #   Column          Non-Null Count  Dtype \n",
      "---  ------          --------------  ----- \n",
      " 0   id              1600 non-null   int64 \n",
      " 1   user_id         1600 non-null   int64 \n",
      " 2   event_datetime  1600 non-null   object\n",
      " 3   amount          1600 non-null   int64 \n",
      "dtypes: int64(3), object(1)\n",
      "memory usage: 62.5+ KB\n"
     ]
    }
   ],
   "source": [
    "condition2 = (events.start_time>='2018-01-01') & (events.start_time<'2019-01-01') & (events.event_type=='registration')\n",
    "registered = events[condition2].user_id.to_list()\n",
    "purch18 = purchases[purchases.user_id.isin(registered)]\n",
    "purch18.info()"
   ]
  },
  {
   "cell_type": "code",
   "execution_count": 9,
   "metadata": {},
   "outputs": [
    {
     "data": {
      "text/html": [
       "<div>\n",
       "<style scoped>\n",
       "    .dataframe tbody tr th:only-of-type {\n",
       "        vertical-align: middle;\n",
       "    }\n",
       "\n",
       "    .dataframe tbody tr th {\n",
       "        vertical-align: top;\n",
       "    }\n",
       "\n",
       "    .dataframe thead th {\n",
       "        text-align: right;\n",
       "    }\n",
       "</style>\n",
       "<table border=\"1\" class=\"dataframe\">\n",
       "  <thead>\n",
       "    <tr style=\"text-align: right;\">\n",
       "      <th></th>\n",
       "      <th>id</th>\n",
       "      <th>user_id</th>\n",
       "      <th>amount</th>\n",
       "    </tr>\n",
       "  </thead>\n",
       "  <tbody>\n",
       "    <tr>\n",
       "      <th>count</th>\n",
       "      <td>1600.000000</td>\n",
       "      <td>1600.000000</td>\n",
       "      <td>1600.000000</td>\n",
       "    </tr>\n",
       "    <tr>\n",
       "      <th>mean</th>\n",
       "      <td>17645.505625</td>\n",
       "      <td>37752.766250</td>\n",
       "      <td>110.734375</td>\n",
       "    </tr>\n",
       "    <tr>\n",
       "      <th>std</th>\n",
       "      <td>462.038637</td>\n",
       "      <td>5822.621784</td>\n",
       "      <td>54.696628</td>\n",
       "    </tr>\n",
       "    <tr>\n",
       "      <th>min</th>\n",
       "      <td>16845.000000</td>\n",
       "      <td>27845.000000</td>\n",
       "      <td>25.000000</td>\n",
       "    </tr>\n",
       "    <tr>\n",
       "      <th>25%</th>\n",
       "      <td>17245.750000</td>\n",
       "      <td>32815.750000</td>\n",
       "      <td>50.000000</td>\n",
       "    </tr>\n",
       "    <tr>\n",
       "      <th>50%</th>\n",
       "      <td>17645.500000</td>\n",
       "      <td>37633.500000</td>\n",
       "      <td>100.000000</td>\n",
       "    </tr>\n",
       "    <tr>\n",
       "      <th>75%</th>\n",
       "      <td>18045.250000</td>\n",
       "      <td>43023.000000</td>\n",
       "      <td>150.000000</td>\n",
       "    </tr>\n",
       "    <tr>\n",
       "      <th>max</th>\n",
       "      <td>18452.000000</td>\n",
       "      <td>47742.000000</td>\n",
       "      <td>300.000000</td>\n",
       "    </tr>\n",
       "  </tbody>\n",
       "</table>\n",
       "</div>"
      ],
      "text/plain": [
       "                 id       user_id       amount\n",
       "count   1600.000000   1600.000000  1600.000000\n",
       "mean   17645.505625  37752.766250   110.734375\n",
       "std      462.038637   5822.621784    54.696628\n",
       "min    16845.000000  27845.000000    25.000000\n",
       "25%    17245.750000  32815.750000    50.000000\n",
       "50%    17645.500000  37633.500000   100.000000\n",
       "75%    18045.250000  43023.000000   150.000000\n",
       "max    18452.000000  47742.000000   300.000000"
      ]
     },
     "execution_count": 9,
     "metadata": {},
     "output_type": "execute_result"
    }
   ],
   "source": [
    "purch18.describe()"
   ]
  },
  {
   "cell_type": "markdown",
   "metadata": {},
   "source": [
    "#### Объединим датафреймы events и purchases для удобного анализа. Данные за 2018 год."
   ]
  },
  {
   "cell_type": "code",
   "execution_count": 10,
   "metadata": {},
   "outputs": [],
   "source": [
    "cond = (events.start_time>='2018-01-01') & (events.start_time<'2019-01-01') & (events.event_type=='registration')\n",
    "registered = events[cond]['user_id'].to_list()\n",
    "ev18 = events[events.user_id.isin(registered)]\n",
    "\n",
    "purchases['event_type'] = 'purchase'\n",
    "purch18 = purchases[purchases.user_id.isin(registered)]\n",
    "\n",
    "events18 = ev18.rename(columns={'id':'event_id', 'start_time':'event_time'})\n",
    "purchase18 = purch18.rename(columns={'id':'purchase_id', 'event_datetime':'purchase_time'})\n",
    "total_events18 = pd.concat([events18,purchase18],sort=False)\n",
    "total_events18['event_time'] = pd.to_datetime(total_events18['event_time'])\n",
    "total_events18['purchase_time'] = pd.to_datetime(total_events18['purchase_time'])\n",
    "total_events18.event_time = pd.to_datetime(total_events18.event_time, format = '%Y-%m-%dT%H:%M:%S')\n",
    "total_events18.purchase_time = pd.to_datetime(total_events18.purchase_time, format = '%Y-%m-%dT%H:%M:%S')"
   ]
  },
  {
   "cell_type": "code",
   "execution_count": 11,
   "metadata": {},
   "outputs": [
    {
     "data": {
      "text/html": [
       "<div>\n",
       "<style scoped>\n",
       "    .dataframe tbody tr th:only-of-type {\n",
       "        vertical-align: middle;\n",
       "    }\n",
       "\n",
       "    .dataframe tbody tr th {\n",
       "        vertical-align: top;\n",
       "    }\n",
       "\n",
       "    .dataframe thead th {\n",
       "        text-align: right;\n",
       "    }\n",
       "</style>\n",
       "<table border=\"1\" class=\"dataframe\">\n",
       "  <thead>\n",
       "    <tr style=\"text-align: right;\">\n",
       "      <th></th>\n",
       "      <th>event_id</th>\n",
       "      <th>event_type</th>\n",
       "      <th>selected_level</th>\n",
       "      <th>event_time</th>\n",
       "      <th>tutorial_id</th>\n",
       "      <th>user_id</th>\n",
       "      <th>purchase_id</th>\n",
       "      <th>purchase_time</th>\n",
       "      <th>amount</th>\n",
       "    </tr>\n",
       "  </thead>\n",
       "  <tbody>\n",
       "    <tr>\n",
       "      <th>51405</th>\n",
       "      <td>80308.0</td>\n",
       "      <td>registration</td>\n",
       "      <td>NaN</td>\n",
       "      <td>2018-01-01 03:48:40</td>\n",
       "      <td>NaN</td>\n",
       "      <td>27832</td>\n",
       "      <td>NaN</td>\n",
       "      <td>NaT</td>\n",
       "      <td>NaN</td>\n",
       "    </tr>\n",
       "    <tr>\n",
       "      <th>51406</th>\n",
       "      <td>80309.0</td>\n",
       "      <td>registration</td>\n",
       "      <td>NaN</td>\n",
       "      <td>2018-01-01 04:07:25</td>\n",
       "      <td>NaN</td>\n",
       "      <td>27833</td>\n",
       "      <td>NaN</td>\n",
       "      <td>NaT</td>\n",
       "      <td>NaN</td>\n",
       "    </tr>\n",
       "    <tr>\n",
       "      <th>51407</th>\n",
       "      <td>80310.0</td>\n",
       "      <td>registration</td>\n",
       "      <td>NaN</td>\n",
       "      <td>2018-01-01 08:35:10</td>\n",
       "      <td>NaN</td>\n",
       "      <td>27834</td>\n",
       "      <td>NaN</td>\n",
       "      <td>NaT</td>\n",
       "      <td>NaN</td>\n",
       "    </tr>\n",
       "    <tr>\n",
       "      <th>51408</th>\n",
       "      <td>80311.0</td>\n",
       "      <td>registration</td>\n",
       "      <td>NaN</td>\n",
       "      <td>2018-01-01 11:54:47</td>\n",
       "      <td>NaN</td>\n",
       "      <td>27835</td>\n",
       "      <td>NaN</td>\n",
       "      <td>NaT</td>\n",
       "      <td>NaN</td>\n",
       "    </tr>\n",
       "    <tr>\n",
       "      <th>51409</th>\n",
       "      <td>80312.0</td>\n",
       "      <td>registration</td>\n",
       "      <td>NaN</td>\n",
       "      <td>2018-01-01 13:28:07</td>\n",
       "      <td>NaN</td>\n",
       "      <td>27836</td>\n",
       "      <td>NaN</td>\n",
       "      <td>NaT</td>\n",
       "      <td>NaN</td>\n",
       "    </tr>\n",
       "    <tr>\n",
       "      <th>...</th>\n",
       "      <td>...</td>\n",
       "      <td>...</td>\n",
       "      <td>...</td>\n",
       "      <td>...</td>\n",
       "      <td>...</td>\n",
       "      <td>...</td>\n",
       "      <td>...</td>\n",
       "      <td>...</td>\n",
       "      <td>...</td>\n",
       "    </tr>\n",
       "    <tr>\n",
       "      <th>2767</th>\n",
       "      <td>NaN</td>\n",
       "      <td>purchase</td>\n",
       "      <td>NaN</td>\n",
       "      <td>NaT</td>\n",
       "      <td>NaN</td>\n",
       "      <td>47498</td>\n",
       "      <td>18441.0</td>\n",
       "      <td>2019-01-02 03:48:19</td>\n",
       "      <td>100.0</td>\n",
       "    </tr>\n",
       "    <tr>\n",
       "      <th>2768</th>\n",
       "      <td>NaN</td>\n",
       "      <td>purchase</td>\n",
       "      <td>NaN</td>\n",
       "      <td>NaT</td>\n",
       "      <td>NaN</td>\n",
       "      <td>47647</td>\n",
       "      <td>18442.0</td>\n",
       "      <td>2019-01-02 23:26:26</td>\n",
       "      <td>150.0</td>\n",
       "    </tr>\n",
       "    <tr>\n",
       "      <th>2769</th>\n",
       "      <td>NaN</td>\n",
       "      <td>purchase</td>\n",
       "      <td>NaN</td>\n",
       "      <td>NaT</td>\n",
       "      <td>NaN</td>\n",
       "      <td>47554</td>\n",
       "      <td>18443.0</td>\n",
       "      <td>2019-01-03 00:36:36</td>\n",
       "      <td>50.0</td>\n",
       "    </tr>\n",
       "    <tr>\n",
       "      <th>2774</th>\n",
       "      <td>NaN</td>\n",
       "      <td>purchase</td>\n",
       "      <td>NaN</td>\n",
       "      <td>NaT</td>\n",
       "      <td>NaN</td>\n",
       "      <td>47742</td>\n",
       "      <td>18448.0</td>\n",
       "      <td>2019-01-04 12:51:41</td>\n",
       "      <td>50.0</td>\n",
       "    </tr>\n",
       "    <tr>\n",
       "      <th>2778</th>\n",
       "      <td>NaN</td>\n",
       "      <td>purchase</td>\n",
       "      <td>NaN</td>\n",
       "      <td>NaT</td>\n",
       "      <td>NaN</td>\n",
       "      <td>47732</td>\n",
       "      <td>18452.0</td>\n",
       "      <td>2019-01-06 07:14:25</td>\n",
       "      <td>150.0</td>\n",
       "    </tr>\n",
       "  </tbody>\n",
       "</table>\n",
       "<p>68559 rows × 9 columns</p>\n",
       "</div>"
      ],
      "text/plain": [
       "       event_id    event_type selected_level          event_time  tutorial_id  \\\n",
       "51405   80308.0  registration            NaN 2018-01-01 03:48:40          NaN   \n",
       "51406   80309.0  registration            NaN 2018-01-01 04:07:25          NaN   \n",
       "51407   80310.0  registration            NaN 2018-01-01 08:35:10          NaN   \n",
       "51408   80311.0  registration            NaN 2018-01-01 11:54:47          NaN   \n",
       "51409   80312.0  registration            NaN 2018-01-01 13:28:07          NaN   \n",
       "...         ...           ...            ...                 ...          ...   \n",
       "2767        NaN      purchase            NaN                 NaT          NaN   \n",
       "2768        NaN      purchase            NaN                 NaT          NaN   \n",
       "2769        NaN      purchase            NaN                 NaT          NaN   \n",
       "2774        NaN      purchase            NaN                 NaT          NaN   \n",
       "2778        NaN      purchase            NaN                 NaT          NaN   \n",
       "\n",
       "       user_id  purchase_id       purchase_time  amount  \n",
       "51405    27832          NaN                 NaT     NaN  \n",
       "51406    27833          NaN                 NaT     NaN  \n",
       "51407    27834          NaN                 NaT     NaN  \n",
       "51408    27835          NaN                 NaT     NaN  \n",
       "51409    27836          NaN                 NaT     NaN  \n",
       "...        ...          ...                 ...     ...  \n",
       "2767     47498      18441.0 2019-01-02 03:48:19   100.0  \n",
       "2768     47647      18442.0 2019-01-02 23:26:26   150.0  \n",
       "2769     47554      18443.0 2019-01-03 00:36:36    50.0  \n",
       "2774     47742      18448.0 2019-01-04 12:51:41    50.0  \n",
       "2778     47732      18452.0 2019-01-06 07:14:25   150.0  \n",
       "\n",
       "[68559 rows x 9 columns]"
      ]
     },
     "execution_count": 11,
     "metadata": {},
     "output_type": "execute_result"
    }
   ],
   "source": [
    "total_events18"
   ]
  },
  {
   "cell_type": "code",
   "execution_count": 12,
   "metadata": {},
   "outputs": [
    {
     "name": "stdout",
     "output_type": "stream",
     "text": [
      "<class 'pandas.core.frame.DataFrame'>\n",
      "Int64Index: 68559 entries, 51405 to 2778\n",
      "Data columns (total 9 columns):\n",
      " #   Column          Non-Null Count  Dtype         \n",
      "---  ------          --------------  -----         \n",
      " 0   event_id        66959 non-null  float64       \n",
      " 1   event_type      68559 non-null  object        \n",
      " 2   selected_level  8342 non-null   object        \n",
      " 3   event_time      66959 non-null  datetime64[ns]\n",
      " 4   tutorial_id     32954 non-null  float64       \n",
      " 5   user_id         68559 non-null  int64         \n",
      " 6   purchase_id     1600 non-null   float64       \n",
      " 7   purchase_time   1600 non-null   datetime64[ns]\n",
      " 8   amount          1600 non-null   float64       \n",
      "dtypes: datetime64[ns](2), float64(4), int64(1), object(2)\n",
      "memory usage: 5.2+ MB\n"
     ]
    }
   ],
   "source": [
    "total_events18.info()"
   ]
  },
  {
   "cell_type": "markdown",
   "metadata": {},
   "source": [
    "Количество уникальных уровней в датафрейме"
   ]
  },
  {
   "cell_type": "code",
   "execution_count": 13,
   "metadata": {},
   "outputs": [
    {
     "data": {
      "text/plain": [
       "array([nan, 'medium', 'hard', 'easy'], dtype=object)"
      ]
     },
     "execution_count": 13,
     "metadata": {},
     "output_type": "execute_result"
    }
   ],
   "source": [
    "total_events18['selected_level'].unique()"
   ]
  },
  {
   "cell_type": "markdown",
   "metadata": {},
   "source": [
    "#### 3. Теперь для каждого пользователя создадим список, который будет содержать выбор уровня сложности.\n",
    "\n",
    "Легкий:"
   ]
  },
  {
   "cell_type": "code",
   "execution_count": 14,
   "metadata": {},
   "outputs": [
    {
     "data": {
      "text/plain": [
       "2448"
      ]
     },
     "execution_count": 14,
     "metadata": {},
     "output_type": "execute_result"
    }
   ],
   "source": [
    "easy_level = total_events18[total_events18['selected_level'] == 'easy']\n",
    "easy_list = easy_level.user_id.to_list()\n",
    "len(easy_list)"
   ]
  },
  {
   "cell_type": "markdown",
   "metadata": {},
   "source": [
    "Средний:"
   ]
  },
  {
   "cell_type": "code",
   "execution_count": 15,
   "metadata": {},
   "outputs": [
    {
     "data": {
      "text/plain": [
       "4645"
      ]
     },
     "execution_count": 15,
     "metadata": {},
     "output_type": "execute_result"
    }
   ],
   "source": [
    "medium_level = total_events18[total_events18['selected_level'] == 'medium']\n",
    "medium_list = medium_level.user_id.to_list()\n",
    "len(medium_list)"
   ]
  },
  {
   "cell_type": "markdown",
   "metadata": {},
   "source": [
    "Сложный:"
   ]
  },
  {
   "cell_type": "code",
   "execution_count": 16,
   "metadata": {},
   "outputs": [
    {
     "data": {
      "text/plain": [
       "1249"
      ]
     },
     "execution_count": 16,
     "metadata": {},
     "output_type": "execute_result"
    }
   ],
   "source": [
    "hard_level = total_events18[total_events18['selected_level'] == 'hard']\n",
    "hard_list = hard_level.user_id.to_list()\n",
    "len(hard_list)"
   ]
  },
  {
   "cell_type": "markdown",
   "metadata": {},
   "source": [
    "Самый популярный уровень у пользователей средний.\n",
    "Посмотрим нагляднее в процентах:"
   ]
  },
  {
   "cell_type": "code",
   "execution_count": 17,
   "metadata": {},
   "outputs": [
    {
     "name": "stdout",
     "output_type": "stream",
     "text": [
      "Легкий уровень - 29.35%\n",
      "Средний уровень - 55.68%\n",
      "Сложный уровень - 14.97%\n"
     ]
    }
   ],
   "source": [
    "print('Легкий уровень - {}%'.format(round(len(easy_list)/(len(easy_list)+len(medium_list)+len(hard_list))*100, 2)))\n",
    "print('Средний уровень - {}%'.format(round(len(medium_list)/(len(easy_list)+len(medium_list)+len(hard_list))*100, 2)))\n",
    "print('Сложный уровень - {}%'.format(round(len(hard_list)/(len(easy_list)+len(medium_list)+len(hard_list))*100, 2)))"
   ]
  },
  {
   "cell_type": "markdown",
   "metadata": {},
   "source": [
    "#### 4. Посмотрим на тех, кто купил вопросы в разрезе уровня сложности в процентах:"
   ]
  },
  {
   "cell_type": "code",
   "execution_count": 18,
   "metadata": {},
   "outputs": [
    {
     "name": "stdout",
     "output_type": "stream",
     "text": [
      "Количество пользователей уровня easy, купивших вопросы: 189\n",
      "Процент таких пользователей: 7.72%\n"
     ]
    }
   ],
   "source": [
    "purchase_easy = purchase18[purchase18['user_id'].isin(easy_list)]\n",
    "perc_of_purchase_easy = purchase_easy['user_id'].nunique()/len(easy_list)\n",
    "print('Количество пользователей уровня easy, купивших вопросы:', purchase_easy['user_id'].nunique())\n",
    "print('Процент таких пользователей: {}%'.format(round(perc_of_purchase_easy*100,2)))"
   ]
  },
  {
   "cell_type": "code",
   "execution_count": 19,
   "metadata": {},
   "outputs": [
    {
     "name": "stdout",
     "output_type": "stream",
     "text": [
      "Количество пользователей уровня medium, купивших вопросы: 969\n",
      "Процент таких пользователей: 20.86%\n"
     ]
    }
   ],
   "source": [
    "purchase_medium = purchase18[purchase18['user_id'].isin(medium_list)]\n",
    "perc_of_purchase_medium = purchase_medium['user_id'].nunique()/len(medium_list)\n",
    "print('Количество пользователей уровня medium, купивших вопросы:', purchase_medium['user_id'].nunique())\n",
    "print('Процент таких пользователей: {}%'.format(round(perc_of_purchase_medium*100,2)))"
   ]
  },
  {
   "cell_type": "code",
   "execution_count": 20,
   "metadata": {},
   "outputs": [
    {
     "name": "stdout",
     "output_type": "stream",
     "text": [
      "Количество пользователей уровня hard, купивших вопросы: 442\n",
      "Процент таких пользователей: 35.39%\n"
     ]
    }
   ],
   "source": [
    "purchase_hard = purchase18[purchase18['user_id'].isin(hard_list)]\n",
    "perc_of_purchase_hard = purchase_hard['user_id'].nunique()/len(hard_list)\n",
    "print('Количество пользователей уровня hard, купивших вопросы:', purchase_hard['user_id'].nunique())\n",
    "print('Процент таких пользователей: {}%'.format(round(perc_of_purchase_hard*100,2)))"
   ]
  },
  {
   "cell_type": "markdown",
   "metadata": {},
   "source": [
    "Как можно заметить из такой статистики, те, кто выбрал сложный уровень, охотнее покупают новые уровни, а те, кто выбрал легкие, мало заинтересованы в продолжении платной игры."
   ]
  },
  {
   "cell_type": "markdown",
   "metadata": {},
   "source": [
    "Можно также взглянуть на процент оплативших вопросы от общего кол-ва людей, которые выбрали уровень сложности:"
   ]
  },
  {
   "cell_type": "code",
   "execution_count": 21,
   "metadata": {},
   "outputs": [
    {
     "name": "stdout",
     "output_type": "stream",
     "text": [
      "Процент пользователей, оплативших вопросы после уровня easy: 2.27%\n",
      "Процент пользователей, оплативших вопросы после уровня medium: 11.62%\n",
      "Процент пользователей, оплативших вопросы после уровня hard: 5.3%\n"
     ]
    }
   ],
   "source": [
    "print('Процент пользователей, оплативших вопросы после уровня easy: {}%'.format(round(purchase_easy['user_id'].nunique()/(len(easy_list)+len(medium_list)+len(hard_list))*100, 2)))\n",
    "print('Процент пользователей, оплативших вопросы после уровня medium: {}%'.format(round(purchase_medium['user_id'].nunique()/(len(easy_list)+len(medium_list)+len(hard_list))*100, 2)))\n",
    "print('Процент пользователей, оплативших вопросы после уровня hard: {}%'.format(round(purchase_hard['user_id'].nunique()/(len(easy_list)+len(medium_list)+len(hard_list))*100, 2)))"
   ]
  },
  {
   "cell_type": "markdown",
   "metadata": {},
   "source": [
    "Здесь ситуация другая - платят охотнее пользователи, которые выбрали средний уровень. Так получилось скорее всего потому, что таких пользователей больше половины. Статистика в разрезе только по уровням лучше отражает ситуацию.\n",
    "\n",
    "Теперь проверим, какова разница во времени между регистрацией и оплатой для каждого уровня сложности."
   ]
  },
  {
   "cell_type": "markdown",
   "metadata": {},
   "source": [
    "#### 5. Выделим два отдельных датафрейма, один будет содержать только события registration со временем, второй - факт оплаты со временем. "
   ]
  },
  {
   "cell_type": "code",
   "execution_count": 22,
   "metadata": {},
   "outputs": [
    {
     "data": {
      "text/html": [
       "<div>\n",
       "<style scoped>\n",
       "    .dataframe tbody tr th:only-of-type {\n",
       "        vertical-align: middle;\n",
       "    }\n",
       "\n",
       "    .dataframe tbody tr th {\n",
       "        vertical-align: top;\n",
       "    }\n",
       "\n",
       "    .dataframe thead th {\n",
       "        text-align: right;\n",
       "    }\n",
       "</style>\n",
       "<table border=\"1\" class=\"dataframe\">\n",
       "  <thead>\n",
       "    <tr style=\"text-align: right;\">\n",
       "      <th></th>\n",
       "      <th>user_id</th>\n",
       "      <th>registration_time</th>\n",
       "    </tr>\n",
       "  </thead>\n",
       "  <tbody>\n",
       "    <tr>\n",
       "      <th>51405</th>\n",
       "      <td>27832</td>\n",
       "      <td>2018-01-01 03:48:40</td>\n",
       "    </tr>\n",
       "    <tr>\n",
       "      <th>51406</th>\n",
       "      <td>27833</td>\n",
       "      <td>2018-01-01 04:07:25</td>\n",
       "    </tr>\n",
       "    <tr>\n",
       "      <th>51407</th>\n",
       "      <td>27834</td>\n",
       "      <td>2018-01-01 08:35:10</td>\n",
       "    </tr>\n",
       "    <tr>\n",
       "      <th>51408</th>\n",
       "      <td>27835</td>\n",
       "      <td>2018-01-01 11:54:47</td>\n",
       "    </tr>\n",
       "    <tr>\n",
       "      <th>51409</th>\n",
       "      <td>27836</td>\n",
       "      <td>2018-01-01 13:28:07</td>\n",
       "    </tr>\n",
       "    <tr>\n",
       "      <th>...</th>\n",
       "      <td>...</td>\n",
       "      <td>...</td>\n",
       "    </tr>\n",
       "    <tr>\n",
       "      <th>118346</th>\n",
       "      <td>47753</td>\n",
       "      <td>2018-12-31 18:58:55</td>\n",
       "    </tr>\n",
       "    <tr>\n",
       "      <th>118347</th>\n",
       "      <td>47754</td>\n",
       "      <td>2018-12-31 19:14:08</td>\n",
       "    </tr>\n",
       "    <tr>\n",
       "      <th>118352</th>\n",
       "      <td>47755</td>\n",
       "      <td>2018-12-31 21:15:14</td>\n",
       "    </tr>\n",
       "    <tr>\n",
       "      <th>118355</th>\n",
       "      <td>47756</td>\n",
       "      <td>2018-12-31 23:17:30</td>\n",
       "    </tr>\n",
       "    <tr>\n",
       "      <th>118356</th>\n",
       "      <td>47757</td>\n",
       "      <td>2018-12-31 23:18:06</td>\n",
       "    </tr>\n",
       "  </tbody>\n",
       "</table>\n",
       "<p>19926 rows × 2 columns</p>\n",
       "</div>"
      ],
      "text/plain": [
       "        user_id   registration_time\n",
       "51405     27832 2018-01-01 03:48:40\n",
       "51406     27833 2018-01-01 04:07:25\n",
       "51407     27834 2018-01-01 08:35:10\n",
       "51408     27835 2018-01-01 11:54:47\n",
       "51409     27836 2018-01-01 13:28:07\n",
       "...         ...                 ...\n",
       "118346    47753 2018-12-31 18:58:55\n",
       "118347    47754 2018-12-31 19:14:08\n",
       "118352    47755 2018-12-31 21:15:14\n",
       "118355    47756 2018-12-31 23:17:30\n",
       "118356    47757 2018-12-31 23:18:06\n",
       "\n",
       "[19926 rows x 2 columns]"
      ]
     },
     "execution_count": 22,
     "metadata": {},
     "output_type": "execute_result"
    }
   ],
   "source": [
    "registration = total_events18[total_events18['event_type'] == 'registration'][['user_id', 'event_time']].rename(columns={'event_time': 'registration_time'})\n",
    "registration"
   ]
  },
  {
   "cell_type": "markdown",
   "metadata": {},
   "source": [
    "Теперь следующий датафрейм, содержащий время оплаты."
   ]
  },
  {
   "cell_type": "code",
   "execution_count": 23,
   "metadata": {},
   "outputs": [
    {
     "data": {
      "text/html": [
       "<div>\n",
       "<style scoped>\n",
       "    .dataframe tbody tr th:only-of-type {\n",
       "        vertical-align: middle;\n",
       "    }\n",
       "\n",
       "    .dataframe tbody tr th {\n",
       "        vertical-align: top;\n",
       "    }\n",
       "\n",
       "    .dataframe thead th {\n",
       "        text-align: right;\n",
       "    }\n",
       "</style>\n",
       "<table border=\"1\" class=\"dataframe\">\n",
       "  <thead>\n",
       "    <tr style=\"text-align: right;\">\n",
       "      <th></th>\n",
       "      <th>user_id</th>\n",
       "      <th>purchase_time</th>\n",
       "    </tr>\n",
       "  </thead>\n",
       "  <tbody>\n",
       "    <tr>\n",
       "      <th>51405</th>\n",
       "      <td>27832</td>\n",
       "      <td>NaT</td>\n",
       "    </tr>\n",
       "    <tr>\n",
       "      <th>51406</th>\n",
       "      <td>27833</td>\n",
       "      <td>NaT</td>\n",
       "    </tr>\n",
       "    <tr>\n",
       "      <th>51407</th>\n",
       "      <td>27834</td>\n",
       "      <td>NaT</td>\n",
       "    </tr>\n",
       "    <tr>\n",
       "      <th>51408</th>\n",
       "      <td>27835</td>\n",
       "      <td>NaT</td>\n",
       "    </tr>\n",
       "    <tr>\n",
       "      <th>51409</th>\n",
       "      <td>27836</td>\n",
       "      <td>NaT</td>\n",
       "    </tr>\n",
       "    <tr>\n",
       "      <th>...</th>\n",
       "      <td>...</td>\n",
       "      <td>...</td>\n",
       "    </tr>\n",
       "    <tr>\n",
       "      <th>2767</th>\n",
       "      <td>47498</td>\n",
       "      <td>2019-01-02 03:48:19</td>\n",
       "    </tr>\n",
       "    <tr>\n",
       "      <th>2768</th>\n",
       "      <td>47647</td>\n",
       "      <td>2019-01-02 23:26:26</td>\n",
       "    </tr>\n",
       "    <tr>\n",
       "      <th>2769</th>\n",
       "      <td>47554</td>\n",
       "      <td>2019-01-03 00:36:36</td>\n",
       "    </tr>\n",
       "    <tr>\n",
       "      <th>2774</th>\n",
       "      <td>47742</td>\n",
       "      <td>2019-01-04 12:51:41</td>\n",
       "    </tr>\n",
       "    <tr>\n",
       "      <th>2778</th>\n",
       "      <td>47732</td>\n",
       "      <td>2019-01-06 07:14:25</td>\n",
       "    </tr>\n",
       "  </tbody>\n",
       "</table>\n",
       "<p>68559 rows × 2 columns</p>\n",
       "</div>"
      ],
      "text/plain": [
       "       user_id       purchase_time\n",
       "51405    27832                 NaT\n",
       "51406    27833                 NaT\n",
       "51407    27834                 NaT\n",
       "51408    27835                 NaT\n",
       "51409    27836                 NaT\n",
       "...        ...                 ...\n",
       "2767     47498 2019-01-02 03:48:19\n",
       "2768     47647 2019-01-02 23:26:26\n",
       "2769     47554 2019-01-03 00:36:36\n",
       "2774     47742 2019-01-04 12:51:41\n",
       "2778     47732 2019-01-06 07:14:25\n",
       "\n",
       "[68559 rows x 2 columns]"
      ]
     },
     "execution_count": 23,
     "metadata": {},
     "output_type": "execute_result"
    }
   ],
   "source": [
    "purchase_with_time = total_events18[['user_id', 'purchase_time']]\n",
    "purchase_with_time"
   ]
  },
  {
   "cell_type": "markdown",
   "metadata": {},
   "source": [
    "#### 6. Объединим эти датафреймы и добавим разницу во времени от регистрации до покупки."
   ]
  },
  {
   "cell_type": "code",
   "execution_count": 24,
   "metadata": {},
   "outputs": [
    {
     "data": {
      "text/html": [
       "<div>\n",
       "<style scoped>\n",
       "    .dataframe tbody tr th:only-of-type {\n",
       "        vertical-align: middle;\n",
       "    }\n",
       "\n",
       "    .dataframe tbody tr th {\n",
       "        vertical-align: top;\n",
       "    }\n",
       "\n",
       "    .dataframe thead th {\n",
       "        text-align: right;\n",
       "    }\n",
       "</style>\n",
       "<table border=\"1\" class=\"dataframe\">\n",
       "  <thead>\n",
       "    <tr style=\"text-align: right;\">\n",
       "      <th></th>\n",
       "      <th>user_id</th>\n",
       "      <th>purchase_time</th>\n",
       "      <th>registration_time</th>\n",
       "      <th>timedelta</th>\n",
       "    </tr>\n",
       "  </thead>\n",
       "  <tbody>\n",
       "    <tr>\n",
       "      <th>0</th>\n",
       "      <td>27832</td>\n",
       "      <td>NaT</td>\n",
       "      <td>2018-01-01 03:48:40</td>\n",
       "      <td>NaT</td>\n",
       "    </tr>\n",
       "    <tr>\n",
       "      <th>1</th>\n",
       "      <td>27833</td>\n",
       "      <td>NaT</td>\n",
       "      <td>2018-01-01 04:07:25</td>\n",
       "      <td>NaT</td>\n",
       "    </tr>\n",
       "    <tr>\n",
       "      <th>2</th>\n",
       "      <td>27833</td>\n",
       "      <td>NaT</td>\n",
       "      <td>2018-01-01 04:07:25</td>\n",
       "      <td>NaT</td>\n",
       "    </tr>\n",
       "    <tr>\n",
       "      <th>3</th>\n",
       "      <td>27833</td>\n",
       "      <td>NaT</td>\n",
       "      <td>2018-01-01 04:07:25</td>\n",
       "      <td>NaT</td>\n",
       "    </tr>\n",
       "    <tr>\n",
       "      <th>4</th>\n",
       "      <td>27834</td>\n",
       "      <td>NaT</td>\n",
       "      <td>2018-01-01 08:35:10</td>\n",
       "      <td>NaT</td>\n",
       "    </tr>\n",
       "    <tr>\n",
       "      <th>...</th>\n",
       "      <td>...</td>\n",
       "      <td>...</td>\n",
       "      <td>...</td>\n",
       "      <td>...</td>\n",
       "    </tr>\n",
       "    <tr>\n",
       "      <th>68554</th>\n",
       "      <td>47756</td>\n",
       "      <td>NaT</td>\n",
       "      <td>2018-12-31 23:17:30</td>\n",
       "      <td>NaT</td>\n",
       "    </tr>\n",
       "    <tr>\n",
       "      <th>68555</th>\n",
       "      <td>47756</td>\n",
       "      <td>NaT</td>\n",
       "      <td>2018-12-31 23:17:30</td>\n",
       "      <td>NaT</td>\n",
       "    </tr>\n",
       "    <tr>\n",
       "      <th>68556</th>\n",
       "      <td>47756</td>\n",
       "      <td>NaT</td>\n",
       "      <td>2018-12-31 23:17:30</td>\n",
       "      <td>NaT</td>\n",
       "    </tr>\n",
       "    <tr>\n",
       "      <th>68557</th>\n",
       "      <td>47756</td>\n",
       "      <td>NaT</td>\n",
       "      <td>2018-12-31 23:17:30</td>\n",
       "      <td>NaT</td>\n",
       "    </tr>\n",
       "    <tr>\n",
       "      <th>68558</th>\n",
       "      <td>47757</td>\n",
       "      <td>NaT</td>\n",
       "      <td>2018-12-31 23:18:06</td>\n",
       "      <td>NaT</td>\n",
       "    </tr>\n",
       "  </tbody>\n",
       "</table>\n",
       "<p>68559 rows × 4 columns</p>\n",
       "</div>"
      ],
      "text/plain": [
       "       user_id purchase_time   registration_time timedelta\n",
       "0        27832           NaT 2018-01-01 03:48:40       NaT\n",
       "1        27833           NaT 2018-01-01 04:07:25       NaT\n",
       "2        27833           NaT 2018-01-01 04:07:25       NaT\n",
       "3        27833           NaT 2018-01-01 04:07:25       NaT\n",
       "4        27834           NaT 2018-01-01 08:35:10       NaT\n",
       "...        ...           ...                 ...       ...\n",
       "68554    47756           NaT 2018-12-31 23:17:30       NaT\n",
       "68555    47756           NaT 2018-12-31 23:17:30       NaT\n",
       "68556    47756           NaT 2018-12-31 23:17:30       NaT\n",
       "68557    47756           NaT 2018-12-31 23:17:30       NaT\n",
       "68558    47757           NaT 2018-12-31 23:18:06       NaT\n",
       "\n",
       "[68559 rows x 4 columns]"
      ]
     },
     "execution_count": 24,
     "metadata": {},
     "output_type": "execute_result"
    }
   ],
   "source": [
    "reg_to_purchase = purchase_with_time.merge(registration, on='user_id', how='inner')\n",
    "reg_to_purchase['timedelta'] = reg_to_purchase['purchase_time'] - reg_to_purchase['registration_time']\n",
    "reg_to_purchase"
   ]
  },
  {
   "cell_type": "code",
   "execution_count": 25,
   "metadata": {},
   "outputs": [
    {
     "data": {
      "text/plain": [
       "count                         1600\n",
       "mean        4 days 01:01:56.595000\n",
       "std      2 days 04:49:55.587574048\n",
       "min                0 days 04:36:58\n",
       "25%                2 days 04:27:28\n",
       "50%         3 days 19:48:53.500000\n",
       "75%         5 days 16:48:57.250000\n",
       "max               11 days 00:35:04\n",
       "Name: timedelta, dtype: object"
      ]
     },
     "execution_count": 25,
     "metadata": {},
     "output_type": "execute_result"
    }
   ],
   "source": [
    "reg_to_purchase['timedelta'].describe()"
   ]
  },
  {
   "cell_type": "markdown",
   "metadata": {},
   "source": [
    "Создадим датафрейм с выбором уровня и объединим его с датафреймом time_to_purchase."
   ]
  },
  {
   "cell_type": "code",
   "execution_count": 27,
   "metadata": {},
   "outputs": [
    {
     "data": {
      "text/html": [
       "<div>\n",
       "<style scoped>\n",
       "    .dataframe tbody tr th:only-of-type {\n",
       "        vertical-align: middle;\n",
       "    }\n",
       "\n",
       "    .dataframe tbody tr th {\n",
       "        vertical-align: top;\n",
       "    }\n",
       "\n",
       "    .dataframe thead th {\n",
       "        text-align: right;\n",
       "    }\n",
       "</style>\n",
       "<table border=\"1\" class=\"dataframe\">\n",
       "  <thead>\n",
       "    <tr style=\"text-align: right;\">\n",
       "      <th></th>\n",
       "      <th>user_id</th>\n",
       "      <th>timedelta</th>\n",
       "      <th>selected_level</th>\n",
       "    </tr>\n",
       "  </thead>\n",
       "  <tbody>\n",
       "    <tr>\n",
       "      <th>0</th>\n",
       "      <td>27835</td>\n",
       "      <td>NaT</td>\n",
       "      <td>medium</td>\n",
       "    </tr>\n",
       "    <tr>\n",
       "      <th>1</th>\n",
       "      <td>27835</td>\n",
       "      <td>NaT</td>\n",
       "      <td>medium</td>\n",
       "    </tr>\n",
       "    <tr>\n",
       "      <th>2</th>\n",
       "      <td>27835</td>\n",
       "      <td>NaT</td>\n",
       "      <td>medium</td>\n",
       "    </tr>\n",
       "    <tr>\n",
       "      <th>3</th>\n",
       "      <td>27835</td>\n",
       "      <td>NaT</td>\n",
       "      <td>medium</td>\n",
       "    </tr>\n",
       "    <tr>\n",
       "      <th>4</th>\n",
       "      <td>27835</td>\n",
       "      <td>NaT</td>\n",
       "      <td>medium</td>\n",
       "    </tr>\n",
       "    <tr>\n",
       "      <th>...</th>\n",
       "      <td>...</td>\n",
       "      <td>...</td>\n",
       "      <td>...</td>\n",
       "    </tr>\n",
       "    <tr>\n",
       "      <th>47551</th>\n",
       "      <td>47756</td>\n",
       "      <td>NaT</td>\n",
       "      <td>medium</td>\n",
       "    </tr>\n",
       "    <tr>\n",
       "      <th>47552</th>\n",
       "      <td>47756</td>\n",
       "      <td>NaT</td>\n",
       "      <td>medium</td>\n",
       "    </tr>\n",
       "    <tr>\n",
       "      <th>47553</th>\n",
       "      <td>47756</td>\n",
       "      <td>NaT</td>\n",
       "      <td>medium</td>\n",
       "    </tr>\n",
       "    <tr>\n",
       "      <th>47554</th>\n",
       "      <td>47756</td>\n",
       "      <td>NaT</td>\n",
       "      <td>medium</td>\n",
       "    </tr>\n",
       "    <tr>\n",
       "      <th>47555</th>\n",
       "      <td>47756</td>\n",
       "      <td>NaT</td>\n",
       "      <td>medium</td>\n",
       "    </tr>\n",
       "  </tbody>\n",
       "</table>\n",
       "<p>47556 rows × 3 columns</p>\n",
       "</div>"
      ],
      "text/plain": [
       "       user_id timedelta selected_level\n",
       "0        27835       NaT         medium\n",
       "1        27835       NaT         medium\n",
       "2        27835       NaT         medium\n",
       "3        27835       NaT         medium\n",
       "4        27835       NaT         medium\n",
       "...        ...       ...            ...\n",
       "47551    47756       NaT         medium\n",
       "47552    47756       NaT         medium\n",
       "47553    47756       NaT         medium\n",
       "47554    47756       NaT         medium\n",
       "47555    47756       NaT         medium\n",
       "\n",
       "[47556 rows x 3 columns]"
      ]
     },
     "execution_count": 27,
     "metadata": {},
     "output_type": "execute_result"
    }
   ],
   "source": [
    "level_choice = total_events18[total_events18['event_type'] == 'level_choice'][['user_id', 'selected_level']]\n",
    "time_with_levels = reg_to_purchase[['user_id', 'timedelta']].merge(level_choice, on='user_id', how='inner')\n",
    "time_with_levels"
   ]
  },
  {
   "cell_type": "markdown",
   "metadata": {},
   "source": [
    "#### 7. Теперь будем анализировать разницу во времени по каждому уровню сложности.\n",
    "\n",
    "Легкий:"
   ]
  },
  {
   "cell_type": "code",
   "execution_count": 28,
   "metadata": {},
   "outputs": [
    {
     "data": {
      "text/plain": [
       "Timedelta('3 days 22:10:23.211640211')"
      ]
     },
     "execution_count": 28,
     "metadata": {},
     "output_type": "execute_result"
    }
   ],
   "source": [
    "easy_delta = time_with_levels[time_with_levels['selected_level'] == 'easy']\n",
    "easy_delta['timedelta'].mean()"
   ]
  },
  {
   "cell_type": "markdown",
   "metadata": {},
   "source": [
    "Средний:"
   ]
  },
  {
   "cell_type": "code",
   "execution_count": 29,
   "metadata": {},
   "outputs": [
    {
     "data": {
      "text/plain": [
       "Timedelta('4 days 06:12:06.576883384')"
      ]
     },
     "execution_count": 29,
     "metadata": {},
     "output_type": "execute_result"
    }
   ],
   "source": [
    "medium_delta = time_with_levels[time_with_levels['selected_level'] == 'medium']\n",
    "medium_delta['timedelta'].mean()"
   ]
  },
  {
   "cell_type": "markdown",
   "metadata": {},
   "source": [
    "Сложный:"
   ]
  },
  {
   "cell_type": "code",
   "execution_count": 30,
   "metadata": {},
   "outputs": [
    {
     "data": {
      "text/plain": [
       "Timedelta('3 days 14:55:19.257918552')"
      ]
     },
     "execution_count": 30,
     "metadata": {},
     "output_type": "execute_result"
    }
   ],
   "source": [
    "hard_delta = time_with_levels[time_with_levels['selected_level'] == 'hard']\n",
    "hard_delta['timedelta'].mean()"
   ]
  },
  {
   "cell_type": "markdown",
   "metadata": {},
   "source": [
    "#### Итак, получившийся анализ разницы во времени между регистрацией и покупкой нам показал, что среднее время для легкого уровня и для сложного совсем небольшой - с небольши отрывом лидирует группа \"сложных\". Предполагая, что прохождение сложных уровней может занять больше времени в принципе, чем прохождение легких, то этот результат можно считать более эффективным. Средний уровень решается на покупку позже почти на сутки."
   ]
  },
  {
   "cell_type": "markdown",
   "metadata": {},
   "source": [
    "Попробуем сравнить время от выбора уровня до оплаты, чтобы понять лучше поведение группы."
   ]
  },
  {
   "cell_type": "code",
   "execution_count": 31,
   "metadata": {},
   "outputs": [
    {
     "data": {
      "text/html": [
       "<div>\n",
       "<style scoped>\n",
       "    .dataframe tbody tr th:only-of-type {\n",
       "        vertical-align: middle;\n",
       "    }\n",
       "\n",
       "    .dataframe tbody tr th {\n",
       "        vertical-align: top;\n",
       "    }\n",
       "\n",
       "    .dataframe thead th {\n",
       "        text-align: right;\n",
       "    }\n",
       "</style>\n",
       "<table border=\"1\" class=\"dataframe\">\n",
       "  <thead>\n",
       "    <tr style=\"text-align: right;\">\n",
       "      <th></th>\n",
       "      <th>user_id</th>\n",
       "      <th>purchase_time</th>\n",
       "      <th>level_choice_time</th>\n",
       "      <th>selected_level</th>\n",
       "      <th>timedelta</th>\n",
       "    </tr>\n",
       "  </thead>\n",
       "  <tbody>\n",
       "    <tr>\n",
       "      <th>0</th>\n",
       "      <td>27835</td>\n",
       "      <td>NaT</td>\n",
       "      <td>2018-01-01 20:37:22</td>\n",
       "      <td>medium</td>\n",
       "      <td>NaT</td>\n",
       "    </tr>\n",
       "    <tr>\n",
       "      <th>1</th>\n",
       "      <td>27835</td>\n",
       "      <td>NaT</td>\n",
       "      <td>2018-01-01 20:37:22</td>\n",
       "      <td>medium</td>\n",
       "      <td>NaT</td>\n",
       "    </tr>\n",
       "    <tr>\n",
       "      <th>2</th>\n",
       "      <td>27835</td>\n",
       "      <td>NaT</td>\n",
       "      <td>2018-01-01 20:37:22</td>\n",
       "      <td>medium</td>\n",
       "      <td>NaT</td>\n",
       "    </tr>\n",
       "    <tr>\n",
       "      <th>3</th>\n",
       "      <td>27835</td>\n",
       "      <td>NaT</td>\n",
       "      <td>2018-01-01 20:37:22</td>\n",
       "      <td>medium</td>\n",
       "      <td>NaT</td>\n",
       "    </tr>\n",
       "    <tr>\n",
       "      <th>4</th>\n",
       "      <td>27835</td>\n",
       "      <td>NaT</td>\n",
       "      <td>2018-01-01 20:37:22</td>\n",
       "      <td>medium</td>\n",
       "      <td>NaT</td>\n",
       "    </tr>\n",
       "    <tr>\n",
       "      <th>...</th>\n",
       "      <td>...</td>\n",
       "      <td>...</td>\n",
       "      <td>...</td>\n",
       "      <td>...</td>\n",
       "      <td>...</td>\n",
       "    </tr>\n",
       "    <tr>\n",
       "      <th>47551</th>\n",
       "      <td>47756</td>\n",
       "      <td>NaT</td>\n",
       "      <td>2019-01-01 05:42:11</td>\n",
       "      <td>medium</td>\n",
       "      <td>NaT</td>\n",
       "    </tr>\n",
       "    <tr>\n",
       "      <th>47552</th>\n",
       "      <td>47756</td>\n",
       "      <td>NaT</td>\n",
       "      <td>2019-01-01 05:42:11</td>\n",
       "      <td>medium</td>\n",
       "      <td>NaT</td>\n",
       "    </tr>\n",
       "    <tr>\n",
       "      <th>47553</th>\n",
       "      <td>47756</td>\n",
       "      <td>NaT</td>\n",
       "      <td>2019-01-01 05:42:11</td>\n",
       "      <td>medium</td>\n",
       "      <td>NaT</td>\n",
       "    </tr>\n",
       "    <tr>\n",
       "      <th>47554</th>\n",
       "      <td>47756</td>\n",
       "      <td>NaT</td>\n",
       "      <td>2019-01-01 05:42:11</td>\n",
       "      <td>medium</td>\n",
       "      <td>NaT</td>\n",
       "    </tr>\n",
       "    <tr>\n",
       "      <th>47555</th>\n",
       "      <td>47756</td>\n",
       "      <td>NaT</td>\n",
       "      <td>2019-01-01 05:42:11</td>\n",
       "      <td>medium</td>\n",
       "      <td>NaT</td>\n",
       "    </tr>\n",
       "  </tbody>\n",
       "</table>\n",
       "<p>47556 rows × 5 columns</p>\n",
       "</div>"
      ],
      "text/plain": [
       "       user_id purchase_time   level_choice_time selected_level timedelta\n",
       "0        27835           NaT 2018-01-01 20:37:22         medium       NaT\n",
       "1        27835           NaT 2018-01-01 20:37:22         medium       NaT\n",
       "2        27835           NaT 2018-01-01 20:37:22         medium       NaT\n",
       "3        27835           NaT 2018-01-01 20:37:22         medium       NaT\n",
       "4        27835           NaT 2018-01-01 20:37:22         medium       NaT\n",
       "...        ...           ...                 ...            ...       ...\n",
       "47551    47756           NaT 2019-01-01 05:42:11         medium       NaT\n",
       "47552    47756           NaT 2019-01-01 05:42:11         medium       NaT\n",
       "47553    47756           NaT 2019-01-01 05:42:11         medium       NaT\n",
       "47554    47756           NaT 2019-01-01 05:42:11         medium       NaT\n",
       "47555    47756           NaT 2019-01-01 05:42:11         medium       NaT\n",
       "\n",
       "[47556 rows x 5 columns]"
      ]
     },
     "execution_count": 31,
     "metadata": {},
     "output_type": "execute_result"
    }
   ],
   "source": [
    "level_time = total_events18[total_events18['event_type'] == 'level_choice'][['user_id', 'event_time', 'selected_level']].rename(columns={'event_time': 'level_choice_time'})\n",
    "lvl_to_purchase = purchase_with_time.merge(level_time, on='user_id', how='inner')\n",
    "lvl_to_purchase['timedelta'] = lvl_to_purchase['purchase_time'] - lvl_to_purchase['level_choice_time']\n",
    "lvl_to_purchase"
   ]
  },
  {
   "cell_type": "code",
   "execution_count": 32,
   "metadata": {},
   "outputs": [
    {
     "name": "stdout",
     "output_type": "stream",
     "text": [
      "easy:  3 days 14:58:52.941798941\n",
      "medium:  3 days 23:14:13.165118679\n",
      "hard:  3 days 07:20:41.420814479\n"
     ]
    }
   ],
   "source": [
    "easy_choice_delta = lvl_to_purchase[lvl_to_purchase['selected_level'] == 'easy']\n",
    "medium_choice_delta = lvl_to_purchase[lvl_to_purchase['selected_level'] == 'medium']\n",
    "hard_choice_delta = lvl_to_purchase[lvl_to_purchase['selected_level'] == 'hard']\n",
    "print('easy: ',easy_choice_delta['timedelta'].mean())\n",
    "print('medium: ',medium_choice_delta['timedelta'].mean())\n",
    "print('hard: ', hard_choice_delta['timedelta'].mean())"
   ]
  },
  {
   "cell_type": "markdown",
   "metadata": {},
   "source": [
    "#### В этом разрезе разница между выбором уровня и оплатой небольшая, и можно сделать вывод, что выбор уровня на скорость, наверное не влияет."
   ]
  },
  {
   "cell_type": "markdown",
   "metadata": {},
   "source": [
    "### С учетом процента оплат внутри каждой группы и средним временем от регистрации до покупки, эффективнее всего получается продавать пакеты вопросов пользователям, выбравших сложный уровень.\n",
    "\n",
    "### Средний уровень выбирает большинство пользователей, но покупают с меньшей охотой, чем \"сложные\", а также дольше принимают это решение. Возможно стоит таких пользователей больше мотивировать переходить на сложный уровень.\n",
    "\n",
    "### Те, кто вбрал легкий уровень, покупают дальше очень мало и для этой группы тоже довольно долго принимают решение. Возможно, проходя легкие уровни, пользователи быстро теряют интерес. Тут, возможно, стоило бы либо усложнить уровни, либо вообще в игре оставить только medium и hard."
   ]
  }
 ],
 "metadata": {
  "kernelspec": {
   "display_name": "Python 3",
   "language": "python",
   "name": "python3"
  },
  "language_info": {
   "codemirror_mode": {
    "name": "ipython",
    "version": 3
   },
   "file_extension": ".py",
   "mimetype": "text/x-python",
   "name": "python",
   "nbconvert_exporter": "python",
   "pygments_lexer": "ipython3",
   "version": "3.8.5"
  }
 },
 "nbformat": 4,
 "nbformat_minor": 4
}
